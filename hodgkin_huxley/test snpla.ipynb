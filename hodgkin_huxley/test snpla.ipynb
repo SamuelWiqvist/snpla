{
 "cells": [
  {
   "cell_type": "code",
   "execution_count": 20,
   "outputs": [],
   "source": [
    "import torch\n",
    "import HodgkinHuxley\n",
    "import matplotlib.pyplot as plt\n",
    "import numpy as np\n",
    "import functions as func\n",
    "import time\n",
    "import sys"
   ],
   "metadata": {
    "collapsed": false,
    "pycharm": {
     "name": "#%%\n"
    }
   }
  },
  {
   "cell_type": "code",
   "execution_count": 21,
   "outputs": [],
   "source": [
    "\n",
    "sys.path.append(\n",
    "    '/home/samuel/Documents/projects/seq posterior approx w nf/seq posterior approx w nf dev/algorithms')\n",
    "\n",
    "import spa as spa\n"
   ],
   "metadata": {
    "collapsed": false,
    "pycharm": {
     "name": "#%%\n"
    }
   }
  },
  {
   "cell_type": "code",
   "execution_count": 22,
   "outputs": [
    {
     "name": "stdout",
     "output_type": "stream",
     "text": [
      "Python version\n",
      "3.7.4 (default, Aug 13 2019, 20:35:49) \n",
      "[GCC 7.3.0]\n",
      "Version info.\n",
      "sys.version_info(major=3, minor=7, micro=4, releaselevel='final', serial=0)\n"
     ]
    }
   ],
   "source": [
    "import sys\n",
    "print(\"Python version\")\n",
    "print (sys.version)\n",
    "\n",
    "print(\"Version info.\")\n",
    "print (sys.version_info)"
   ],
   "metadata": {
    "collapsed": false,
    "pycharm": {
     "name": "#%%\n"
    }
   }
  },
  {
   "cell_type": "code",
   "execution_count": 23,
   "outputs": [
    {
     "name": "stdout",
     "output_type": "stream",
     "text": [
      "/home/samuel/Documents/projects/seq posterior approx w nf/seq posterior approx w nf dev/hodgkin_huxley\n"
     ]
    }
   ],
   "source": [
    "import os\n",
    "\n",
    "print(os.getcwd())\n",
    "\n",
    "seed_data = 7"
   ],
   "metadata": {
    "collapsed": false,
    "pycharm": {
     "name": "#%%\n"
    }
   }
  },
  {
   "cell_type": "markdown",
   "source": [
    "## Gen sbi data"
   ],
   "metadata": {
    "collapsed": false
   }
  },
  {
   "cell_type": "code",
   "execution_count": 24,
   "outputs": [],
   "source": [
    "model = HodgkinHuxley.HodgkinHuxley(\"snl\")"
   ],
   "metadata": {
    "collapsed": false,
    "pycharm": {
     "name": "#%%\n"
    }
   }
  },
  {
   "cell_type": "code",
   "execution_count": 25,
   "outputs": [],
   "source": [
    "t_vec = np.array(HodgkinHuxley.h.t_vec)"
   ],
   "metadata": {
    "collapsed": false,
    "pycharm": {
     "name": "#%%\n"
    }
   }
  },
  {
   "cell_type": "code",
   "execution_count": 26,
   "outputs": [],
   "source": [
    "v_true, Iinj = model.simulator(model.log_theta_true, seed_data, True)\n"
   ],
   "metadata": {
    "collapsed": false,
    "pycharm": {
     "name": "#%%\n"
    }
   }
  },
  {
   "cell_type": "code",
   "execution_count": 27,
   "outputs": [
    {
     "data": {
      "text/plain": "[<matplotlib.lines.Line2D at 0x7f586aaa1750>]"
     },
     "execution_count": 27,
     "metadata": {},
     "output_type": "execute_result"
    },
    {
     "data": {
      "text/plain": "<Figure size 432x288 with 1 Axes>",
      "image/png": "[encoded data removed]"
     },
     "metadata": {
      "needs_background": "light"
     },
     "output_type": "display_data"
    },
    {
     "data": {
      "text/plain": "<Figure size 432x288 with 1 Axes>",
      "image/png": "[encoded data removed]"
     },
     "metadata": {
      "needs_background": "light"
     },
     "output_type": "display_data"
    }
   ],
   "source": [
    "\n",
    "plt.figure()\n",
    "plt.plot(t_vec, Iinj)\n",
    "\n",
    "plt.figure()\n",
    "plt.plot(t_vec, v_true)\n"
   ],
   "metadata": {
    "collapsed": false,
    "pycharm": {
     "name": "#%%\n"
    }
   }
  },
  {
   "cell_type": "code",
   "execution_count": 28,
   "outputs": [],
   "source": [
    "summary_stats_obs = model.calculate_summary_statistics(v_true)\n"
   ],
   "metadata": {
    "collapsed": false,
    "pycharm": {
     "name": "#%%\n"
    }
   }
  },
  {
   "cell_type": "code",
   "execution_count": 29,
   "outputs": [
    {
     "data": {
      "text/plain": "array([-6.40828856e+01,  2.81086579e+00,  2.79212967e+00,  1.17168804e+02,\n        4.67103817e+03,  3.00037889e+00,  6.60806063e+00,  1.03037433e+01,\n        3.99239771e+03,  3.80963892e+03,  3.75168188e+03,  3.66387183e+03,\n        3.57566284e+03,  3.48756299e+03,  3.40273657e+03,  3.32262183e+03,\n        3.25609912e+03,  3.11782129e+03])"
     },
     "execution_count": 29,
     "metadata": {},
     "output_type": "execute_result"
    }
   ],
   "source": [
    "summary_stats_obs"
   ],
   "metadata": {
    "collapsed": false,
    "pycharm": {
     "name": "#%%\n"
    }
   }
  },
  {
   "cell_type": "markdown",
   "source": [
    "#### set up model simulator"
   ],
   "metadata": {
    "collapsed": false
   }
  },
  {
   "cell_type": "code",
   "execution_count": 30,
   "outputs": [],
   "source": [
    "def simulator_wrapper(params):\n",
    "\n",
    "    # return tensor\n",
    "    return model.calculate_summary_statistics(model.simulator(params))\n"
   ],
   "metadata": {
    "collapsed": false,
    "pycharm": {
     "name": "#%%\n"
    }
   }
  },
  {
   "cell_type": "code",
   "execution_count": 31,
   "outputs": [
    {
     "name": "stderr",
     "output_type": "stream",
     "text": [
      "Pilot run: running 2000 simulations: 100%|██████████| 2000/2000 [00:29<00:00, 67.00it/s]\n"
     ]
    }
   ],
   "source": [
    "# run pilot to calc mean and std of summary stats\n",
    "whiteness_params = func.pilot_run(model, simulator_wrapper, summary_stats_obs)\n"
   ],
   "metadata": {
    "collapsed": false,
    "pycharm": {
     "name": "#%%\n"
    }
   }
  },
  {
   "cell_type": "code",
   "execution_count": 32,
   "outputs": [],
   "source": [
    "summary_stats_obs_w = func.whiten(summary_stats_obs, whiteness_params)\n"
   ],
   "metadata": {
    "collapsed": false,
    "pycharm": {
     "name": "#%%\n"
    }
   }
  },
  {
   "cell_type": "code",
   "execution_count": 33,
   "outputs": [],
   "source": [
    "#m_prior, std_prior = func.load_summary_stats_mean_and_std()\n"
   ],
   "metadata": {
    "collapsed": false,
    "pycharm": {
     "name": "#%%\n"
    }
   }
  },
  {
   "cell_type": "code",
   "execution_count": 34,
   "outputs": [],
   "source": [
    "#w_sim_wrapper = lambda param: torch.as_tensor(func.whiten(simulator_wrapper(param), whiteness_params))\n",
    "\n",
    "\n",
    "def simulator(params):\n",
    "\n",
    "    N = params.shape[0]\n",
    "    data = torch.zeros(params.shape[0],18)\n",
    "\n",
    "    for i in range(N):\n",
    "        data[i, :] = torch.as_tensor(func.whiten(simulator_wrapper(params[i,:]), whiteness_params))\n",
    "\n",
    "    return data\n",
    "\n"
   ],
   "metadata": {
    "collapsed": false,
    "pycharm": {
     "name": "#%%\n"
    }
   }
  },
  {
   "cell_type": "code",
   "execution_count": 35,
   "outputs": [
    {
     "name": "stdout",
     "output_type": "stream",
     "text": [
      "tensor([-2.5702, -1.7965,  1.6719, -1.7965, -2.1833, -1.9843,  1.8710, -3.4684,\n",
      "        -1.8982,  0.3869])\n",
      "tensor([0.5581, 0.5581, 0.5581, 0.5581, 0.5581, 0.5581, 0.5581, 0.5581, 0.5581,\n",
      "        0.5581])\n"
     ]
    }
   ],
   "source": [
    "flow_lik, flow_post = func.set_up_networks(model.prior.base_dist.low,\n",
    "                                               model.prior.base_dist.high)\n",
    "\n",
    "optimizer_lik = torch.optim.Adam(flow_lik.parameters())\n",
    "optimizer_post = torch.optim.Adam(flow_post.parameters(), lr=0.001)  # used def value before\n",
    "decay_rate_post = 0.9  # no adaptation of Adam's base rate"
   ],
   "metadata": {
    "collapsed": false,
    "pycharm": {
     "name": "#%%\n"
    }
   }
  },
  {
   "cell_type": "code",
   "execution_count": 36,
   "outputs": [
    {
     "name": "stdout",
     "output_type": "stream",
     "text": [
      "[1.0, 0.4065696597405991, 0.16529888822158653, 0.06720551273974976, 0.02732372244729256]\n"
     ]
    }
   ],
   "source": [
    "s_x_o = torch.from_numpy(summary_stats_obs_w).to(dtype=torch.float32).reshape(1,18)\n",
    "\n",
    "nbr_rounds = 5\n",
    "prob_prior_decay_rate = 0.9\n",
    "prob_prior = spa.calc_prob_prior(nbr_rounds, prob_prior_decay_rate)\n",
    "\n",
    "print(prob_prior)"
   ],
   "metadata": {
    "collapsed": false,
    "pycharm": {
     "name": "#%%\n"
    }
   }
  },
  {
   "cell_type": "code",
   "execution_count": 37,
   "outputs": [],
   "source": [
    "nbr_lik = [1000, 1000, 1000, 1000, 1000]  # , 2000, 2000]\n",
    "nbr_epochs_lik = [50, 50, 50, 50, 50]\n",
    "batch_size = 50\n",
    "batch_size_post = 50\n",
    "nbr_post = [10000, 10000, 10000, 10000, 10000]  # , 10000, 10000]\n",
    "nbr_epochs_post = [25, 25, 25, 25, 25, 25]\n",
    "\n",
    "x_o_batch_post = torch.zeros(batch_size_post, 18)\n",
    "\n",
    "for i in range(batch_size_post):\n",
    "    x_o_batch_post[i, :] = s_x_o"
   ],
   "metadata": {
    "collapsed": false,
    "pycharm": {
     "name": "#%%\n"
    }
   }
  },
  {
   "cell_type": "code",
   "execution_count": 38,
   "outputs": [
    {
     "name": "stdout",
     "output_type": "stream",
     "text": [
      "start full training\n",
      "Iteration: 1\n",
      "optimizer_post_lr: [0.001]\n",
      "prob_prior: 1.0\n",
      "start update likelihood model\n",
      "Epoch: 0, loss (training): 81.7417, loss (eval): 123.0402\n",
      "Epoch: 1, loss (training): 50.2432, loss (eval): 59.4638\n",
      "Epoch: 2, loss (training): 36.5294, loss (eval): 39.8377\n",
      "Epoch: 3, loss (training): 31.1108, loss (eval): 31.3368\n",
      "Epoch: 4, loss (training): 28.0637, loss (eval): 27.386\n",
      "Epoch: 5, loss (training): 26.682, loss (eval): 25.5642\n",
      "Epoch: 6, loss (training): 25.8181, loss (eval): 24.7878\n",
      "Epoch: 7, loss (training): 25.2107, loss (eval): 24.1891\n",
      "Epoch: 8, loss (training): 24.6143, loss (eval): 23.5857\n",
      "Epoch: 9, loss (training): 24.1001, loss (eval): 23.017\n",
      "Epoch: 10, loss (training): 23.492, loss (eval): 22.5313\n",
      "Epoch: 11, loss (training): 22.9491, loss (eval): 21.9504\n",
      "Epoch: 12, loss (training): 22.4105, loss (eval): 21.4545\n",
      "Epoch: 13, loss (training): 21.7699, loss (eval): 21.0251\n",
      "Epoch: 14, loss (training): 21.1016, loss (eval): 20.3796\n",
      "Epoch: 15, loss (training): 20.4649, loss (eval): 19.6469\n",
      "Epoch: 16, loss (training): 19.8073, loss (eval): 18.8439\n",
      "Epoch: 17, loss (training): 19.0426, loss (eval): 18.4657\n",
      "Epoch: 18, loss (training): 18.1356, loss (eval): 16.9381\n",
      "Epoch: 19, loss (training): 17.2071, loss (eval): 16.2432\n",
      "Epoch: 20, loss (training): 16.4002, loss (eval): 15.2205\n",
      "Epoch: 21, loss (training): 15.6055, loss (eval): 14.3616\n",
      "Epoch: 22, loss (training): 14.7947, loss (eval): 13.6259\n",
      "Epoch: 23, loss (training): 14.1091, loss (eval): 12.8582\n",
      "Epoch: 24, loss (training): 13.4708, loss (eval): 12.202\n",
      "Epoch: 25, loss (training): 12.8678, loss (eval): 11.6631\n",
      "Epoch: 26, loss (training): 12.3294, loss (eval): 10.8722\n",
      "Epoch: 27, loss (training): 11.6959, loss (eval): 10.3226\n",
      "Epoch: 28, loss (training): 11.1626, loss (eval): 9.7026\n",
      "Epoch: 29, loss (training): 10.6983, loss (eval): 9.3095\n",
      "Epoch: 30, loss (training): 10.1578, loss (eval): 8.7258\n",
      "Epoch: 31, loss (training): 9.763, loss (eval): 8.5647\n",
      "Epoch: 32, loss (training): 9.329, loss (eval): 8.0023\n",
      "Epoch: 33, loss (training): 8.7905, loss (eval): 7.5225\n",
      "Epoch: 34, loss (training): 8.2842, loss (eval): 6.7604\n",
      "Epoch: 35, loss (training): 7.8922, loss (eval): 6.3445\n",
      "Epoch: 36, loss (training): 7.504, loss (eval): 5.9001\n",
      "Epoch: 37, loss (training): 7.0384, loss (eval): 6.3258\n",
      "Epoch: 38, loss (training): 6.5524, loss (eval): 4.9401\n",
      "Epoch: 39, loss (training): 6.3163, loss (eval): 4.6175\n",
      "Epoch: 40, loss (training): 5.8233, loss (eval): 4.1155\n",
      "Epoch: 41, loss (training): 5.6029, loss (eval): 4.0519\n",
      "Epoch: 42, loss (training): 5.2933, loss (eval): 3.6972\n",
      "Epoch: 43, loss (training): 4.9317, loss (eval): 3.302\n",
      "Epoch: 44, loss (training): 4.7247, loss (eval): 2.8084\n",
      "Epoch: 45, loss (training): 4.6749, loss (eval): 2.7026\n",
      "Epoch: 46, loss (training): 4.2062, loss (eval): 2.3296\n",
      "Epoch: 47, loss (training): 3.9095, loss (eval): 1.834\n",
      "Epoch: 48, loss (training): 3.5136, loss (eval): 1.6922\n",
      "Epoch: 49, loss (training): 3.1765, loss (eval): 1.2129\n",
      "start update posterior model from prior pred - hot start\n",
      "Epoch: 0, loss (training): 10.6793, loss (eval): 11.5394\n",
      "Epoch: 1, loss (training): 8.3032, loss (eval): 8.9492\n",
      "Epoch: 2, loss (training): 6.8605, loss (eval): 7.1386\n",
      "Epoch: 3, loss (training): 6.1221, loss (eval): 6.269\n",
      "Epoch: 4, loss (training): 5.6755, loss (eval): 5.869\n",
      "Epoch: 5, loss (training): 5.351, loss (eval): 5.6825\n",
      "Epoch: 6, loss (training): 5.0714, loss (eval): 5.4734\n",
      "Epoch: 7, loss (training): 4.8386, loss (eval): 5.322\n",
      "Epoch: 8, loss (training): 4.6174, loss (eval): 5.2217\n",
      "Epoch: 9, loss (training): 4.4168, loss (eval): 5.0526\n",
      "start update posterior model\n",
      "Epoch: 0, loss (training): 4.2932, loss (eval): 5.6062\n",
      "Epoch: 1, loss (training): 4.1813, loss (eval): 4.2086\n",
      "Epoch: 2, loss (training): 4.1673, loss (eval): 4.1852\n",
      "Epoch: 3, loss (training): 4.1661, loss (eval): 4.1863\n",
      "Epoch: 4, loss (training): 4.1655, loss (eval): 4.1697\n",
      "Epoch: 5, loss (training): 4.1641, loss (eval): 4.1842\n",
      "Epoch: 6, loss (training): 4.1589, loss (eval): 4.1803\n",
      "Epoch: 7, loss (training): 4.1585, loss (eval): 4.1701\n",
      "Epoch: 8, loss (training): 4.1655, loss (eval): 4.1359\n",
      "Epoch: 9, loss (training): 4.1494, loss (eval): 4.1761\n",
      "Epoch: 10, loss (training): 4.1461, loss (eval): 4.1739\n",
      "Epoch: 11, loss (training): 4.1496, loss (eval): 4.1529\n",
      "Epoch: 12, loss (training): 4.1428, loss (eval): 4.1646\n",
      "Epoch: 13, loss (training): 4.1528, loss (eval): 4.1218\n",
      "Epoch: 14, loss (training): 4.1463, loss (eval): 4.1577\n",
      "Epoch: 15, loss (training): 4.1399, loss (eval): 4.1348\n",
      "Epoch: 16, loss (training): 4.1478, loss (eval): 4.1335\n",
      "Epoch: 17, loss (training): 4.1481, loss (eval): 4.1248\n",
      "Epoch: 18, loss (training): 4.147, loss (eval): 4.1575\n",
      "Epoch: 19, loss (training): 4.1386, loss (eval): 4.1491\n",
      "Epoch: 20, loss (training): 4.1374, loss (eval): 4.1516\n",
      "Epoch: 21, loss (training): 4.1428, loss (eval): 4.1406\n",
      "Epoch: 22, loss (training): 4.1427, loss (eval): 4.1103\n",
      "Epoch: 23, loss (training): 4.1344, loss (eval): 4.1306\n",
      "Epoch: 24, loss (training): 4.1298, loss (eval): 4.1626\n",
      "Iteration: 2\n",
      "optimizer_post_lr: [0.0009000000000000001]\n",
      "prob_prior: 0.4065696597405991\n",
      "start update likelihood model\n",
      "Epoch: 0, loss (training): 83704.7508, loss (eval): -1.188\n",
      "Epoch: 1, loss (training): 89573653160368.36, loss (eval): 22.2285\n",
      "Epoch: 2, loss (training): 19800831.3891, loss (eval): 37.0478\n",
      "Epoch: 3, loss (training): 36960.3715, loss (eval): 63.7841\n",
      "Epoch: 4, loss (training): 23468.2794, loss (eval): 61.8129\n",
      "Epoch: 5, loss (training): 96.917, loss (eval): 59.7875\n",
      "Epoch: 6, loss (training): 312.9752, loss (eval): 59.2427\n",
      "Epoch: 7, loss (training): 859.9247, loss (eval): 59.1743\n",
      "Epoch: 8, loss (training): 12359.3846, loss (eval): 58.8928\n",
      "Epoch: 9, loss (training): 75.8337, loss (eval): 59.0022\n",
      "Epoch: 10, loss (training): 1123.7577, loss (eval): 59.1553\n",
      "Epoch: 11, loss (training): 204.495, loss (eval): 58.9621\n",
      "Epoch: 12, loss (training): 414.2567, loss (eval): 58.7115\n",
      "Epoch: 13, loss (training): 90.3485, loss (eval): 58.483\n",
      "Epoch: 14, loss (training): 70.7261, loss (eval): 58.3168\n",
      "Epoch: 15, loss (training): 66.0938, loss (eval): 58.3416\n",
      "Epoch: 16, loss (training): 65.4029, loss (eval): 58.0757\n",
      "Epoch: 17, loss (training): 64.9278, loss (eval): 57.8526\n",
      "Epoch: 18, loss (training): 64.5064, loss (eval): 57.6844\n",
      "Epoch: 19, loss (training): 64.1187, loss (eval): 57.5489\n",
      "Early-stopping. Training converged after 20 epochs.\n",
      "start update posterior model\n",
      "Epoch: 0, loss (training): 57.9216, loss (eval): 59.8275\n",
      "Epoch: 1, loss (training): 57.8098, loss (eval): 57.8156\n",
      "Epoch: 2, loss (training): 57.802, loss (eval): 57.784\n",
      "Epoch: 3, loss (training): 57.7981, loss (eval): 57.803\n",
      "Epoch: 4, loss (training): 57.8064, loss (eval): 57.799\n",
      "Epoch: 5, loss (training): 57.7905, loss (eval): 57.7841\n",
      "Epoch: 6, loss (training): 57.7971, loss (eval): 57.7769\n",
      "Epoch: 7, loss (training): 57.7916, loss (eval): 57.8187\n",
      "Epoch: 8, loss (training): 57.7861, loss (eval): 57.7955\n",
      "Epoch: 9, loss (training): 57.7827, loss (eval): 57.7906\n",
      "Epoch: 10, loss (training): 57.7881, loss (eval): 57.7837\n",
      "Epoch: 11, loss (training): 57.7893, loss (eval): 57.7878\n",
      "Epoch: 12, loss (training): 57.793, loss (eval): 57.8044\n",
      "Epoch: 13, loss (training): 57.787, loss (eval): 57.7632\n",
      "Epoch: 14, loss (training): 57.7839, loss (eval): 57.7774\n",
      "Epoch: 15, loss (training): 57.7831, loss (eval): 57.7716\n",
      "Epoch: 16, loss (training): 57.7881, loss (eval): 57.7902\n",
      "Epoch: 17, loss (training): 57.7842, loss (eval): 57.7941\n",
      "Epoch: 18, loss (training): 57.777, loss (eval): 57.7872\n",
      "Epoch: 19, loss (training): 57.7837, loss (eval): 57.7625\n",
      "Epoch: 20, loss (training): 57.7813, loss (eval): 57.785\n",
      "Epoch: 21, loss (training): 57.7786, loss (eval): 57.7605\n",
      "Epoch: 22, loss (training): 57.7814, loss (eval): 57.8169\n",
      "Epoch: 23, loss (training): inf, loss (eval): 57.7662\n",
      "Epoch: 24, loss (training): 57.7781, loss (eval): 57.7977\n",
      "Iteration: 3\n",
      "optimizer_post_lr: [0.0008100000000000001]\n",
      "prob_prior: 0.16529888822158653\n",
      "start update likelihood model\n",
      "Epoch: 0, loss (training): 51.2947, loss (eval): 51.8292\n",
      "Epoch: 1, loss (training): 50.3342, loss (eval): 50.7818\n",
      "Epoch: 2, loss (training): 49.9653, loss (eval): 50.3734\n",
      "Epoch: 3, loss (training): 49.7334, loss (eval): 50.1449\n",
      "Epoch: 4, loss (training): 49.542, loss (eval): 49.9609\n",
      "Epoch: 5, loss (training): 49.3596, loss (eval): 49.7901\n",
      "Epoch: 6, loss (training): 49.1846, loss (eval): 49.6125\n",
      "Epoch: 7, loss (training): 49.0225, loss (eval): 49.4488\n",
      "Epoch: 8, loss (training): 48.8561, loss (eval): 49.2835\n",
      "Epoch: 9, loss (training): 48.7015, loss (eval): 49.1389\n",
      "Epoch: 10, loss (training): 48.5463, loss (eval): 48.9911\n",
      "Epoch: 11, loss (training): 48.4014, loss (eval): 48.8423\n",
      "Epoch: 12, loss (training): 48.2517, loss (eval): 48.7038\n",
      "Epoch: 13, loss (training): 48.1068, loss (eval): 48.5618\n",
      "Epoch: 14, loss (training): 47.9675, loss (eval): 48.4256\n",
      "Epoch: 15, loss (training): 47.8285, loss (eval): 48.2879\n",
      "Epoch: 16, loss (training): 47.6904, loss (eval): 48.1532\n",
      "Epoch: 17, loss (training): 47.5515, loss (eval): 48.0205\n",
      "Epoch: 18, loss (training): 47.4149, loss (eval): 47.8866\n",
      "Epoch: 19, loss (training): 47.2699, loss (eval): 47.7513\n",
      "Epoch: 20, loss (training): 47.1323, loss (eval): 47.617\n",
      "Epoch: 21, loss (training): 46.9956, loss (eval): 47.4861\n",
      "Epoch: 22, loss (training): 46.8579, loss (eval): 47.3501\n",
      "Epoch: 23, loss (training): 46.7242, loss (eval): 47.2235\n",
      "Epoch: 24, loss (training): 46.5858, loss (eval): 47.0896\n",
      "Epoch: 25, loss (training): 46.4497, loss (eval): 46.9604\n",
      "Epoch: 26, loss (training): 46.321, loss (eval): 46.8236\n",
      "Epoch: 27, loss (training): 46.1776, loss (eval): 46.693\n",
      "Epoch: 28, loss (training): 46.0415, loss (eval): 46.5606\n",
      "Epoch: 29, loss (training): 45.9054, loss (eval): 46.428\n",
      "Epoch: 30, loss (training): 45.7686, loss (eval): 46.2913\n",
      "Epoch: 31, loss (training): 45.6293, loss (eval): 46.1642\n",
      "Epoch: 32, loss (training): 45.4956, loss (eval): 46.028\n",
      "Epoch: 33, loss (training): 45.3584, loss (eval): 45.8988\n",
      "Epoch: 34, loss (training): 45.2156, loss (eval): 45.7635\n",
      "Epoch: 35, loss (training): 45.0767, loss (eval): 45.6374\n",
      "Epoch: 36, loss (training): 44.9375, loss (eval): 45.4994\n",
      "Epoch: 37, loss (training): 44.8032, loss (eval): 45.3732\n",
      "Epoch: 38, loss (training): 44.6636, loss (eval): 45.2411\n",
      "Epoch: 39, loss (training): 44.5245, loss (eval): 45.1121\n",
      "Epoch: 40, loss (training): 44.3907, loss (eval): 44.9844\n",
      "Epoch: 41, loss (training): 44.2544, loss (eval): 44.8587\n",
      "Epoch: 42, loss (training): 44.1234, loss (eval): 44.7348\n",
      "Epoch: 43, loss (training): 43.9866, loss (eval): 44.6089\n",
      "Epoch: 44, loss (training): 43.855, loss (eval): 44.4898\n",
      "Epoch: 45, loss (training): 43.7258, loss (eval): 44.3655\n",
      "Epoch: 46, loss (training): 43.5973, loss (eval): 44.2471\n",
      "Epoch: 47, loss (training): 43.4742, loss (eval): 44.132\n",
      "Epoch: 48, loss (training): 43.3491, loss (eval): 44.0151\n",
      "Epoch: 49, loss (training): 43.2315, loss (eval): 43.9025\n",
      "start update posterior model\n",
      "Epoch: 0, loss (training): 49.3612, loss (eval): 49.449\n",
      "Epoch: 1, loss (training): 49.3609, loss (eval): 49.3379\n",
      "Epoch: 2, loss (training): 49.3579, loss (eval): 49.3581\n",
      "Epoch: 3, loss (training): 49.3557, loss (eval): 49.3589\n",
      "Epoch: 4, loss (training): 49.3581, loss (eval): 49.3708\n",
      "Epoch: 5, loss (training): inf, loss (eval): 49.3518\n",
      "Epoch: 6, loss (training): 49.3568, loss (eval): 49.3696\n",
      "Epoch: 7, loss (training): 49.3438, loss (eval): 49.3624\n",
      "Epoch: 8, loss (training): 49.3543, loss (eval): 49.3482\n",
      "Epoch: 9, loss (training): 49.3544, loss (eval): 49.3496\n",
      "Epoch: 10, loss (training): 49.3518, loss (eval): 49.3512\n",
      "Epoch: 11, loss (training): 49.3444, loss (eval): 49.3372\n",
      "Epoch: 12, loss (training): 49.356, loss (eval): 49.3467\n",
      "Epoch: 13, loss (training): 49.3393, loss (eval): 49.347\n",
      "Epoch: 14, loss (training): 49.3427, loss (eval): 49.3035\n",
      "Epoch: 15, loss (training): 49.343, loss (eval): 49.3533\n",
      "Epoch: 16, loss (training): 49.3393, loss (eval): 49.3224\n",
      "Epoch: 17, loss (training): inf, loss (eval): 49.3434\n",
      "Epoch: 18, loss (training): 49.3382, loss (eval): 49.348\n",
      "Epoch: 19, loss (training): 49.3396, loss (eval): 49.3531\n",
      "Epoch: 20, loss (training): 49.3436, loss (eval): 49.3441\n",
      "Epoch: 21, loss (training): inf, loss (eval): 49.329\n",
      "Epoch: 22, loss (training): 49.3386, loss (eval): 49.3176\n",
      "Epoch: 23, loss (training): 49.3386, loss (eval): 49.3343\n",
      "Epoch: 24, loss (training): inf, loss (eval): 49.3658\n",
      "Iteration: 4\n",
      "optimizer_post_lr: [0.000729]\n",
      "prob_prior: 0.06720551273974976\n",
      "start update likelihood model\n",
      "Epoch: 0, loss (training): 42.2813, loss (eval): 43.8597\n",
      "Epoch: 1, loss (training): 42.1295, loss (eval): 43.6413\n",
      "Epoch: 2, loss (training): 41.9959, loss (eval): 43.562\n",
      "Epoch: 3, loss (training): 41.8663, loss (eval): 43.4354\n",
      "Epoch: 4, loss (training): 41.7372, loss (eval): 43.2875\n",
      "Epoch: 5, loss (training): 41.6047, loss (eval): 43.1737\n",
      "Epoch: 6, loss (training): 41.4789, loss (eval): 43.071\n",
      "Epoch: 7, loss (training): 41.3535, loss (eval): 42.9479\n",
      "Epoch: 8, loss (training): 41.2349, loss (eval): 42.8471\n",
      "Epoch: 9, loss (training): 41.1147, loss (eval): 42.7239\n",
      "Epoch: 10, loss (training): 40.9997, loss (eval): 42.634\n",
      "Epoch: 11, loss (training): 40.8802, loss (eval): 42.5192\n",
      "Epoch: 12, loss (training): 40.7676, loss (eval): 42.4126\n",
      "Epoch: 13, loss (training): 40.6573, loss (eval): 42.3109\n",
      "Epoch: 14, loss (training): 40.5453, loss (eval): 42.2058\n",
      "Epoch: 15, loss (training): 40.4411, loss (eval): 42.1187\n",
      "Epoch: 16, loss (training): 40.3371, loss (eval): 42.0302\n",
      "Epoch: 17, loss (training): 40.2329, loss (eval): 41.9121\n",
      "Epoch: 18, loss (training): 40.1333, loss (eval): 41.8446\n",
      "Epoch: 19, loss (training): 40.0368, loss (eval): 41.7521\n",
      "Epoch: 20, loss (training): 39.9421, loss (eval): 41.659\n",
      "Epoch: 21, loss (training): 39.8464, loss (eval): 41.6044\n",
      "Epoch: 22, loss (training): 39.7588, loss (eval): 41.4856\n",
      "Epoch: 23, loss (training): 39.6666, loss (eval): 41.4248\n",
      "Epoch: 24, loss (training): 39.5811, loss (eval): 41.3301\n",
      "Epoch: 25, loss (training): 39.4946, loss (eval): 41.2665\n",
      "Epoch: 26, loss (training): 39.4128, loss (eval): 41.1939\n",
      "Epoch: 27, loss (training): 39.3312, loss (eval): 41.1032\n",
      "Epoch: 28, loss (training): 39.2505, loss (eval): 41.0434\n",
      "Epoch: 29, loss (training): 39.174, loss (eval): 40.9742\n",
      "Epoch: 30, loss (training): 39.0959, loss (eval): 40.9025\n",
      "Epoch: 31, loss (training): 39.0181, loss (eval): 40.8219\n",
      "Epoch: 32, loss (training): 38.9435, loss (eval): 40.7738\n",
      "Epoch: 33, loss (training): 38.8699, loss (eval): 40.6895\n",
      "Epoch: 34, loss (training): 38.7959, loss (eval): 40.6239\n",
      "Epoch: 35, loss (training): 38.7262, loss (eval): 40.5895\n",
      "Epoch: 36, loss (training): 38.653, loss (eval): 40.507\n",
      "Epoch: 37, loss (training): 38.5851, loss (eval): 40.4286\n",
      "Epoch: 38, loss (training): 38.5117, loss (eval): 40.3821\n",
      "Epoch: 39, loss (training): 38.442, loss (eval): 40.2938\n",
      "Epoch: 40, loss (training): 38.3719, loss (eval): 40.2522\n",
      "Epoch: 41, loss (training): 38.3041, loss (eval): 40.1718\n",
      "Epoch: 42, loss (training): 38.2326, loss (eval): 40.0952\n",
      "Epoch: 43, loss (training): 38.1651, loss (eval): 40.0441\n",
      "Epoch: 44, loss (training): 38.1011, loss (eval): 39.9732\n",
      "Epoch: 45, loss (training): 38.0286, loss (eval): 39.9316\n",
      "Epoch: 46, loss (training): 37.9643, loss (eval): 39.8405\n",
      "Epoch: 47, loss (training): 37.8923, loss (eval): 39.7767\n",
      "Epoch: 48, loss (training): 37.8292, loss (eval): 39.7055\n",
      "Epoch: 49, loss (training): 37.7563, loss (eval): 39.6621\n",
      "start update posterior model\n",
      "Epoch: 0, loss (training): 43.9491, loss (eval): 44.2735\n",
      "Epoch: 1, loss (training): 43.9215, loss (eval): 43.9411\n",
      "Epoch: 2, loss (training): 43.9125, loss (eval): 43.8982\n",
      "Epoch: 3, loss (training): 43.9176, loss (eval): 43.9292\n",
      "Epoch: 4, loss (training): 43.9173, loss (eval): 43.9578\n",
      "Epoch: 5, loss (training): 43.9092, loss (eval): 43.8964\n",
      "Epoch: 6, loss (training): 43.9092, loss (eval): 43.8954\n",
      "Epoch: 7, loss (training): 43.9089, loss (eval): 43.9265\n",
      "Epoch: 8, loss (training): 43.909, loss (eval): 43.909\n",
      "Epoch: 9, loss (training): 43.9095, loss (eval): 43.9171\n",
      "Epoch: 10, loss (training): 43.91, loss (eval): 43.9013\n",
      "Epoch: 11, loss (training): 43.9099, loss (eval): 43.9153\n",
      "Epoch: 12, loss (training): 43.908, loss (eval): 43.9173\n",
      "Epoch: 13, loss (training): 43.9132, loss (eval): 43.9143\n",
      "Epoch: 14, loss (training): 43.9163, loss (eval): 43.9094\n",
      "Epoch: 15, loss (training): 43.9059, loss (eval): 43.9041\n",
      "Epoch: 16, loss (training): 43.9128, loss (eval): 43.9118\n",
      "Epoch: 17, loss (training): 43.9065, loss (eval): 43.914\n",
      "Epoch: 18, loss (training): 43.904, loss (eval): 43.9216\n",
      "Epoch: 19, loss (training): 43.9068, loss (eval): 43.9067\n",
      "Epoch: 20, loss (training): 43.9023, loss (eval): 43.8983\n",
      "Epoch: 21, loss (training): 43.9034, loss (eval): 43.907\n",
      "Epoch: 22, loss (training): 43.9054, loss (eval): 43.9062\n",
      "Epoch: 23, loss (training): 43.9012, loss (eval): 43.918\n",
      "Epoch: 24, loss (training): 43.8965, loss (eval): 43.9004\n",
      "Iteration: 5\n",
      "optimizer_post_lr: [0.0006561000000000001]\n",
      "prob_prior: 0.02732372244729256\n",
      "start update likelihood model\n",
      "Epoch: 0, loss (training): 35.9342, loss (eval): 35.5007\n",
      "Epoch: 1, loss (training): 34.6041, loss (eval): 33.5234\n",
      "Epoch: 2, loss (training): 33.948, loss (eval): 32.7241\n",
      "Epoch: 3, loss (training): 33.4971, loss (eval): 32.2462\n",
      "Epoch: 4, loss (training): 33.1475, loss (eval): 31.8654\n",
      "Epoch: 5, loss (training): 32.8111, loss (eval): 31.5789\n",
      "Epoch: 6, loss (training): 32.5123, loss (eval): 31.281\n",
      "Epoch: 7, loss (training): 32.2233, loss (eval): 31.005\n",
      "Epoch: 8, loss (training): 31.9492, loss (eval): 30.7627\n",
      "Epoch: 9, loss (training): 31.6869, loss (eval): 30.5175\n",
      "Epoch: 10, loss (training): 31.4365, loss (eval): 30.3005\n",
      "Epoch: 11, loss (training): 31.2015, loss (eval): 30.059\n",
      "Epoch: 12, loss (training): 30.9839, loss (eval): 29.8649\n",
      "Epoch: 13, loss (training): 30.7736, loss (eval): 29.6662\n",
      "Epoch: 14, loss (training): 30.568, loss (eval): 29.4727\n",
      "Epoch: 15, loss (training): 30.3774, loss (eval): 29.2693\n",
      "Epoch: 16, loss (training): 30.1973, loss (eval): 29.109\n",
      "Epoch: 17, loss (training): 30.0242, loss (eval): 28.9577\n",
      "Epoch: 18, loss (training): 29.8479, loss (eval): 28.778\n",
      "Epoch: 19, loss (training): 29.6866, loss (eval): 28.6098\n",
      "Epoch: 20, loss (training): 29.5272, loss (eval): 28.4632\n",
      "Epoch: 21, loss (training): 29.3751, loss (eval): 28.2867\n",
      "Epoch: 22, loss (training): 29.2251, loss (eval): 28.1413\n",
      "Epoch: 23, loss (training): 29.075, loss (eval): 27.9841\n",
      "Epoch: 24, loss (training): 28.934, loss (eval): 27.8615\n",
      "Epoch: 25, loss (training): 28.7824, loss (eval): 27.7188\n",
      "Epoch: 26, loss (training): 28.6403, loss (eval): 27.552\n",
      "Epoch: 27, loss (training): 28.5124, loss (eval): 27.4278\n",
      "Epoch: 28, loss (training): 28.3743, loss (eval): 27.3097\n",
      "Epoch: 29, loss (training): 28.2331, loss (eval): 27.1668\n",
      "Epoch: 30, loss (training): 28.0983, loss (eval): 27.0093\n",
      "Epoch: 31, loss (training): 27.9676, loss (eval): 26.871\n",
      "Epoch: 32, loss (training): 27.8422, loss (eval): 26.7559\n",
      "Epoch: 33, loss (training): 27.7204, loss (eval): 26.6373\n",
      "Epoch: 34, loss (training): 27.5901, loss (eval): 26.4838\n",
      "Epoch: 35, loss (training): 27.4673, loss (eval): 26.3849\n",
      "Epoch: 36, loss (training): 27.3428, loss (eval): 26.2541\n",
      "Epoch: 37, loss (training): 27.226, loss (eval): 26.1303\n",
      "Epoch: 38, loss (training): 27.1111, loss (eval): 26.0229\n",
      "Epoch: 39, loss (training): 26.9922, loss (eval): 25.9131\n",
      "Epoch: 40, loss (training): 26.8816, loss (eval): 25.7942\n",
      "Epoch: 41, loss (training): 26.7746, loss (eval): 25.6847\n",
      "Epoch: 42, loss (training): 26.66, loss (eval): 25.5894\n",
      "Epoch: 43, loss (training): 26.5511, loss (eval): 25.4526\n",
      "Epoch: 44, loss (training): 26.4452, loss (eval): 25.3461\n",
      "Epoch: 45, loss (training): 26.3424, loss (eval): 25.2631\n",
      "Epoch: 46, loss (training): 26.2351, loss (eval): 25.1556\n",
      "Epoch: 47, loss (training): 26.1347, loss (eval): 25.0533\n",
      "Epoch: 48, loss (training): 26.0375, loss (eval): 24.9593\n",
      "Epoch: 49, loss (training): 25.931, loss (eval): 24.843\n",
      "start update posterior model\n",
      "Epoch: 0, loss (training): 31.4308, loss (eval): 31.84\n",
      "Epoch: 1, loss (training): 31.382, loss (eval): 31.396\n",
      "Epoch: 2, loss (training): inf, loss (eval): 31.3926\n",
      "Epoch: 3, loss (training): 31.3841, loss (eval): 31.3757\n",
      "Epoch: 4, loss (training): 31.3879, loss (eval): 31.3869\n",
      "Epoch: 5, loss (training): 31.3792, loss (eval): 31.36\n",
      "Epoch: 6, loss (training): 31.3836, loss (eval): 31.375\n",
      "Epoch: 7, loss (training): 31.3807, loss (eval): 31.3911\n",
      "Epoch: 8, loss (training): 31.3797, loss (eval): 31.388\n",
      "Epoch: 9, loss (training): 31.3808, loss (eval): 31.3791\n",
      "Epoch: 10, loss (training): 31.3798, loss (eval): 31.3883\n",
      "Epoch: 11, loss (training): inf, loss (eval): 31.3923\n",
      "Epoch: 12, loss (training): 31.3829, loss (eval): 31.3825\n",
      "Epoch: 13, loss (training): 31.3799, loss (eval): 31.3837\n",
      "Epoch: 14, loss (training): 31.3804, loss (eval): 31.3764\n",
      "Epoch: 15, loss (training): 31.3757, loss (eval): 31.387\n",
      "Epoch: 16, loss (training): 31.3877, loss (eval): 31.3793\n",
      "Epoch: 17, loss (training): 31.376, loss (eval): 31.4044\n",
      "Epoch: 18, loss (training): 31.376, loss (eval): 31.4035\n",
      "Epoch: 19, loss (training): 31.3754, loss (eval): 31.3692\n",
      "Epoch: 20, loss (training): 31.3708, loss (eval): 31.3837\n",
      "Epoch: 21, loss (training): 31.3733, loss (eval): 31.3943\n",
      "Epoch: 22, loss (training): 31.3831, loss (eval): 31.3874\n",
      "Epoch: 23, loss (training): 31.3812, loss (eval): 31.3928\n",
      "Epoch: 24, loss (training): inf, loss (eval): 31.3487\n"
     ]
    }
   ],
   "source": [
    "torch.manual_seed(1)\n",
    "np.random.seed(1)\n",
    "torch.backends.cudnn.deterministic = True\n",
    "torch.backends.cudnn.benchmark = False\n",
    "\n",
    "dim_post = 10\n",
    "start = time.time()\n",
    "\n",
    "models_lik, models_post = spa.inference_spa(flow_lik,\n",
    "                                            flow_post,\n",
    "                                            model.prior,\n",
    "                                            simulator,\n",
    "                                            optimizer_lik,\n",
    "                                            optimizer_post,\n",
    "                                            decay_rate_post,\n",
    "                                            s_x_o,\n",
    "                                            x_o_batch_post,\n",
    "                                            dim_post,\n",
    "                                            prob_prior,\n",
    "                                            nbr_lik,\n",
    "                                            nbr_epochs_lik,\n",
    "                                            nbr_post,\n",
    "                                            nbr_epochs_post,\n",
    "                                            batch_size,\n",
    "                                            batch_size_post)\n",
    "\n",
    "end = time.time()\n",
    "run_time = end - start\n"
   ],
   "metadata": {
    "collapsed": false,
    "pycharm": {
     "name": "#%%\n"
    }
   }
  },
  {
   "cell_type": "code",
   "execution_count": 40,
   "outputs": [],
   "source": [
    "start = time.time()\n",
    "\n",
    "for i in range(nbr_rounds):\n",
    "    posterior_sample = models_post[i].sample(1000, context=s_x_o)\n",
    "    posterior_sample = posterior_sample.reshape((1000, 10))\n",
    "    np.savetxt('data/post_samples_snpla_' + str(i + 1) + '_' + '.csv',\n",
    "               posterior_sample.detach().numpy(), delimiter=\",\")\n",
    "\n",
    "end = time.time()\n",
    "run_time_inference = (end - start) / nbr_rounds\n",
    "\n",
    "# Write results\n",
    "\n",
    "with open('results/snpla_' + '.txt', 'w') as f:\n",
    "    f.write('%.4f\\n' % run_time)\n",
    "    f.write('%.4f\\n' % run_time_inference)"
   ],
   "metadata": {
    "collapsed": false,
    "pycharm": {
     "name": "#%%\n"
    }
   }
  },
  {
   "cell_type": "code",
   "execution_count": null,
   "outputs": [],
   "source": [
    "a = 1\n",
    "b = 2\n",
    "\n",
    "flow_post = build_custom_post_net(a,b)\n",
    "\n"
   ],
   "metadata": {
    "collapsed": false,
    "pycharm": {
     "name": "#%%\n"
    }
   }
  },
  {
   "cell_type": "code",
   "execution_count": null,
   "outputs": [],
   "source": [
    "s_temp = flow_post.sample(10)"
   ],
   "metadata": {
    "collapsed": false,
    "pycharm": {
     "name": "#%%\n"
    }
   }
  },
  {
   "cell_type": "code",
   "execution_count": null,
   "outputs": [],
   "source": [
    "s_temp\n"
   ],
   "metadata": {
    "collapsed": false,
    "pycharm": {
     "name": "#%%\n"
    }
   }
  },
  {
   "cell_type": "code",
   "execution_count": null,
   "outputs": [],
   "source": [
    "s = torch.from_numpy(summary_stats_obs_w).to(dtype=torch.float32).reshape(1,18)\n",
    "s_temp = flow_post.sample(10, context=s)\n",
    "\n",
    "\n",
    "# why is this samping the same values???\n"
   ],
   "metadata": {
    "collapsed": false,
    "pycharm": {
     "name": "#%%\n"
    }
   }
  },
  {
   "cell_type": "code",
   "execution_count": null,
   "outputs": [],
   "source": [
    "s_temp"
   ],
   "metadata": {
    "collapsed": false,
    "pycharm": {
     "name": "#%%\n"
    }
   }
  },
  {
   "cell_type": "code",
   "execution_count": null,
   "outputs": [],
   "source": [
    "print(summary_stats_obs)\n",
    "\n",
    "print(summary_stats_obs_w)"
   ],
   "metadata": {
    "collapsed": false,
    "pycharm": {
     "name": "#%%\n"
    }
   }
  },
  {
   "cell_type": "code",
   "execution_count": null,
   "outputs": [],
   "source": [
    "inference = SNPE_C(simulator, prior, density_estimator=build_custom_post_net)"
   ],
   "metadata": {
    "collapsed": false,
    "pycharm": {
     "name": "#%%\n"
    }
   }
  },
  {
   "cell_type": "code",
   "execution_count": null,
   "outputs": [],
   "source": [
    "start = time.time()\n",
    "\n",
    "torch.manual_seed(1)\n",
    "np.random.seed(1)\n",
    "torch.backends.cudnn.deterministic = True\n",
    "torch.backends.cudnn.benchmark = False\n",
    "\n",
    "import math\n",
    "\n",
    "num_rounds = 5\n",
    "x_o = torch.from_numpy(summary_stats_obs_w).to(dtype=torch.float32).reshape(1,18)\n",
    "\n",
    "posteriors = []\n",
    "proposal = None\n",
    "\n",
    "for i in range(num_rounds):\n",
    "    #lr = 0.001*math.exp(-0.95 * i)\n",
    "    posterior = inference(num_simulations=2000, proposal=proposal, max_num_epochs=100) #, learning_rate=lr)\n",
    "    posteriors.append(posterior)\n",
    "    proposal = posterior.set_default_x(x_o)\n",
    "\n",
    "\n",
    "end = time.time()\n",
    "run_time = end - start\n",
    "\n",
    "print(\"\")\n",
    "print(\"Runtime:\" + str(round(run_time, 2)))"
   ],
   "metadata": {
    "collapsed": false,
    "pycharm": {
     "name": "#%%\n"
    }
   }
  },
  {
   "cell_type": "code",
   "execution_count": null,
   "outputs": [],
   "source": [
    "samples1 = posteriors[0].sample((2000,), x=x_o)\n",
    "samples2 = posteriors[1].sample((2000,), x=x_o)\n",
    "samples3 = posteriors[2].sample((2000,), x=x_o)\n",
    "samples4 = posteriors[3].sample((2000,), x=x_o)\n",
    "samples5 = posteriors[4].sample((2000,), x=x_o)"
   ],
   "metadata": {
    "collapsed": false,
    "pycharm": {
     "name": "#%%\n"
    }
   }
  },
  {
   "cell_type": "code",
   "execution_count": null,
   "outputs": [],
   "source": [
    "prior_limits = []\n",
    "\n",
    "for i in range(10):\n",
    "    prior_limits.append([round(model.prior.base_dist.low[i].item(),1),\n",
    "                         round(model.prior.base_dist.high[i].item(),1)])\n"
   ],
   "metadata": {
    "collapsed": false,
    "pycharm": {
     "name": "#%%\n"
    }
   }
  },
  {
   "cell_type": "code",
   "execution_count": null,
   "outputs": [],
   "source": [
    "labels = [\"log(gbar_Na)\",\n",
    "          \"log(gbar_K)\",\n",
    "          \"log(g_leak)\",\n",
    "          \"log(E_Na)\",\n",
    "          \"log(-E_K)\",\n",
    "          \"log(-E_leak)\",\n",
    "          \"log(gbar_M)\",\n",
    "          \"log(tau_max)\",\n",
    "          \"log(Vt)\",\n",
    "           \"log(sigma)\"]"
   ],
   "metadata": {
    "collapsed": false,
    "pycharm": {
     "name": "#%%\n"
    }
   }
  },
  {
   "cell_type": "code",
   "execution_count": null,
   "outputs": [],
   "source": [
    "from sbi import utils as utils\n",
    "fig, axes = utils.pairplot(samples1,\n",
    "                           points=torch.as_tensor(model.log_theta_true),\n",
    "                           points_offdiag={'markersize': 6},\n",
    "                           points_colors='r',\n",
    "                           limits=prior_limits,\n",
    "                           ticks=prior_limits,\n",
    "                           labels = labels)"
   ],
   "metadata": {
    "collapsed": false,
    "pycharm": {
     "name": "#%%\n"
    }
   }
  },
  {
   "cell_type": "code",
   "execution_count": null,
   "outputs": [],
   "source": [
    "from sbi import utils as utils\n",
    "fig, axes = utils.pairplot(samples2,\n",
    "                           points=torch.as_tensor(model.log_theta_true),\n",
    "                           points_offdiag={'markersize': 6},\n",
    "                           points_colors='r',\n",
    "                           limits=prior_limits,\n",
    "                           ticks=prior_limits,\n",
    "                           labels = labels)\n"
   ],
   "metadata": {
    "collapsed": false,
    "pycharm": {
     "name": "#%%\n"
    }
   }
  },
  {
   "cell_type": "code",
   "execution_count": null,
   "outputs": [],
   "source": [
    "from sbi import utils as utils\n",
    "fig, axes = utils.pairplot(samples3,\n",
    "                           points=torch.as_tensor(model.log_theta_true),\n",
    "                           points_offdiag={'markersize': 6},\n",
    "                           points_colors='r',\n",
    "                           limits=prior_limits,\n",
    "                           ticks=prior_limits,\n",
    "                           labels = labels)"
   ],
   "metadata": {
    "collapsed": false,
    "pycharm": {
     "name": "#%%\n"
    }
   }
  },
  {
   "cell_type": "code",
   "execution_count": null,
   "outputs": [],
   "source": [
    "from sbi import utils as utils\n",
    "fig, axes = utils.pairplot(samples4,\n",
    "                           points=torch.as_tensor(model.log_theta_true),\n",
    "                           points_offdiag={'markersize': 6},\n",
    "                           points_colors='r',\n",
    "                           limits=prior_limits,\n",
    "                           ticks=prior_limits,\n",
    "                           labels = labels)"
   ],
   "metadata": {
    "collapsed": false,
    "pycharm": {
     "name": "#%%\n"
    }
   }
  },
  {
   "cell_type": "code",
   "execution_count": null,
   "outputs": [],
   "source": [
    "from sbi import utils as utils\n",
    "fig, axes = utils.pairplot(samples5,\n",
    "                           points=torch.as_tensor(model.log_theta_true),\n",
    "                           points_offdiag={'markersize': 6},\n",
    "                           points_colors='r',\n",
    "                           limits=prior_limits,\n",
    "                           ticks=prior_limits,\n",
    "                           labels = labels)\n"
   ],
   "metadata": {
    "collapsed": false,
    "pycharm": {
     "name": "#%%\n"
    }
   }
  }
 ],
 "metadata": {
  "kernelspec": {
   "display_name": "Python 3",
   "language": "python",
   "name": "python3"
  },
  "language_info": {
   "codemirror_mode": {
    "name": "ipython",
    "version": 2
   },
   "file_extension": ".py",
   "mimetype": "text/x-python",
   "name": "python",
   "nbconvert_exporter": "python",
   "pygments_lexer": "ipython2",
   "version": "2.7.6"
  }
 },
 "nbformat": 4,
 "nbformat_minor": 0
}